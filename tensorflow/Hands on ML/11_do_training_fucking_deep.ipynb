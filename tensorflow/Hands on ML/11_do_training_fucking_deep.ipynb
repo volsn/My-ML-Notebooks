{
 "cells": [
  {
   "cell_type": "code",
   "execution_count": 1,
   "metadata": {},
   "outputs": [],
   "source": [
    "import sys\n",
    "import os\n",
    "import time\n",
    "\n",
    "import tensorflow as tf\n",
    "from tensorflow import keras\n",
    "import sklearn\n",
    "\n",
    "import numpy as np\n",
    "import matplotlib as mpl\n",
    "import matplotlib.pyplot as plt\n",
    "import pandas as pd"
   ]
  },
  {
   "cell_type": "code",
   "execution_count": 2,
   "metadata": {},
   "outputs": [],
   "source": [
    "root_logdir = os.path.join(os.curdir, 'my_logs_fucking_deep')\n",
    "if not os.path.exists(root_logdir):\n",
    "    os.mkdir(root_logdir)\n",
    "\n",
    "def get_log_dir(*args, **kwargs):\n",
    "    import time\n",
    "    run_id = time.strftime('%Y_%m_%d-%H:%M:%S')\n",
    "    if len(args) > 0 or len(kwargs) > 0:\n",
    "        run_id += '?'\n",
    "        \n",
    "    for value in args:\n",
    "        run_id += '_{}'.format(value)\n",
    "    for key, value in kwargs.items():\n",
    "        run_id += '_{}={}'.format(str(key), str(value))\n",
    "    return os.path.join(root_logdir, run_id)"
   ]
  },
  {
   "cell_type": "code",
   "execution_count": null,
   "metadata": {},
   "outputs": [],
   "source": []
  },
  {
   "cell_type": "code",
   "execution_count": 3,
   "metadata": {},
   "outputs": [],
   "source": [
    "(X_train_full, y_train_full), (X_test, y_test) = keras.datasets.fashion_mnist.load_data()\n",
    "X_train_full = X_train_full / 255.0\n",
    "X_test = X_test / 255.0\n",
    "X_valid, X_train = X_train_full[:5000], X_train_full[5000:]\n",
    "y_valid, y_train = y_train_full[:5000], y_train_full[5000:]"
   ]
  },
  {
   "cell_type": "code",
   "execution_count": null,
   "metadata": {},
   "outputs": [],
   "source": []
  },
  {
   "cell_type": "markdown",
   "metadata": {},
   "source": [
    "## LeakyReLU"
   ]
  },
  {
   "cell_type": "code",
   "execution_count": 4,
   "metadata": {},
   "outputs": [],
   "source": [
    "keras.backend.clear_session()\n",
    "tf.random.set_seed(42)\n",
    "np.random.seed(42)"
   ]
  },
  {
   "cell_type": "code",
   "execution_count": 18,
   "metadata": {},
   "outputs": [],
   "source": [
    "model = keras.models.Sequential([\n",
    "    keras.layers.Flatten(input_shape=[28, 28]),\n",
    "    keras.layers.Dense(300, kernel_initializer='he_normal'),\n",
    "    keras.layers.LeakyReLU(),\n",
    "    keras.layers.Dense(100, kernel_initializer='he_normal'),\n",
    "    keras.layers.LeakyReLU(),\n",
    "    keras.layers.Dense(10, activation='softmax')\n",
    "])"
   ]
  },
  {
   "cell_type": "code",
   "execution_count": 52,
   "metadata": {},
   "outputs": [],
   "source": [
    "model.compile(loss='sparse_categorical_crossentropy',\n",
    "              optimizer=keras.optimizers.SGD(lr=1e-3),\n",
    "              metrics=['accuracy'])"
   ]
  },
  {
   "cell_type": "code",
   "execution_count": 53,
   "metadata": {
    "collapsed": true,
    "jupyter": {
     "outputs_hidden": true
    }
   },
   "outputs": [
    {
     "name": "stdout",
     "output_type": "stream",
     "text": [
      "Epoch 1/30\n",
      "   1/1719 [..............................] - ETA: 0s - loss: 0.5300 - accuracy: 0.8438WARNING:tensorflow:From /Users/vlsnk/anaconda3/envs/fucked-up-data-science/lib/python3.7/site-packages/tensorflow/python/ops/summary_ops_v2.py:1277: stop (from tensorflow.python.eager.profiler) is deprecated and will be removed after 2020-07-01.\n",
      "Instructions for updating:\n",
      "use `tf.profiler.experimental.stop` instead.\n",
      "   2/1719 [..............................] - ETA: 1:00 - loss: 0.4062 - accuracy: 0.8906WARNING:tensorflow:Callbacks method `on_train_batch_end` is slow compared to the batch time (batch time: 0.0023s vs `on_train_batch_end` time: 0.0669s). Check your callbacks.\n",
      "1719/1719 [==============================] - 3s 2ms/step - loss: 0.4020 - accuracy: 0.8602 - val_loss: 0.4045 - val_accuracy: 0.8640\n",
      "Epoch 2/30\n",
      "1719/1719 [==============================] - 4s 2ms/step - loss: 0.3998 - accuracy: 0.8602 - val_loss: 0.4027 - val_accuracy: 0.8630\n",
      "Epoch 3/30\n",
      "1719/1719 [==============================] - 4s 2ms/step - loss: 0.3977 - accuracy: 0.8610 - val_loss: 0.4112 - val_accuracy: 0.8560\n",
      "Epoch 4/30\n",
      "1719/1719 [==============================] - 4s 3ms/step - loss: 0.3958 - accuracy: 0.8627 - val_loss: 0.4002 - val_accuracy: 0.8614\n",
      "Epoch 5/30\n",
      "1719/1719 [==============================] - 3s 2ms/step - loss: 0.3945 - accuracy: 0.8629 - val_loss: 0.3974 - val_accuracy: 0.8642\n",
      "Epoch 6/30\n",
      "1719/1719 [==============================] - 3s 2ms/step - loss: 0.3922 - accuracy: 0.8631 - val_loss: 0.3966 - val_accuracy: 0.8658\n",
      "Epoch 7/30\n",
      "1719/1719 [==============================] - 3s 2ms/step - loss: 0.3906 - accuracy: 0.8639 - val_loss: 0.3949 - val_accuracy: 0.8656\n",
      "Epoch 8/30\n",
      "1719/1719 [==============================] - 3s 2ms/step - loss: 0.3890 - accuracy: 0.8645 - val_loss: 0.4000 - val_accuracy: 0.8632\n",
      "Epoch 9/30\n",
      "1719/1719 [==============================] - 4s 2ms/step - loss: 0.3876 - accuracy: 0.8651 - val_loss: 0.3920 - val_accuracy: 0.8650\n",
      "Epoch 10/30\n",
      "1719/1719 [==============================] - 4s 2ms/step - loss: 0.3856 - accuracy: 0.8656 - val_loss: 0.3931 - val_accuracy: 0.8680\n",
      "Epoch 11/30\n",
      "1719/1719 [==============================] - 3s 1ms/step - loss: 0.3840 - accuracy: 0.8666 - val_loss: 0.3912 - val_accuracy: 0.8674\n",
      "Epoch 12/30\n",
      "1719/1719 [==============================] - 2s 1ms/step - loss: 0.3823 - accuracy: 0.8670 - val_loss: 0.3918 - val_accuracy: 0.8676\n",
      "Epoch 13/30\n",
      "1719/1719 [==============================] - 2s 1ms/step - loss: 0.3810 - accuracy: 0.8669 - val_loss: 0.3907 - val_accuracy: 0.8674\n",
      "Epoch 14/30\n",
      "1719/1719 [==============================] - 2s 1ms/step - loss: 0.3797 - accuracy: 0.8677 - val_loss: 0.3920 - val_accuracy: 0.8672\n",
      "Epoch 15/30\n",
      "1719/1719 [==============================] - 2s 1ms/step - loss: 0.3781 - accuracy: 0.8685 - val_loss: 0.3877 - val_accuracy: 0.8680\n",
      "Epoch 16/30\n",
      "1719/1719 [==============================] - 2s 1ms/step - loss: 0.3768 - accuracy: 0.8686 - val_loss: 0.3874 - val_accuracy: 0.8678\n",
      "Epoch 17/30\n",
      "1719/1719 [==============================] - 2s 1ms/step - loss: 0.3754 - accuracy: 0.8697 - val_loss: 0.3921 - val_accuracy: 0.8688\n",
      "Epoch 18/30\n",
      "1719/1719 [==============================] - 2s 1ms/step - loss: 0.3737 - accuracy: 0.8691 - val_loss: 0.3850 - val_accuracy: 0.8698\n",
      "Epoch 19/30\n",
      "1719/1719 [==============================] - 3s 2ms/step - loss: 0.3729 - accuracy: 0.8705 - val_loss: 0.3846 - val_accuracy: 0.8690\n",
      "Epoch 20/30\n",
      "1719/1719 [==============================] - 3s 2ms/step - loss: 0.3715 - accuracy: 0.8704 - val_loss: 0.3845 - val_accuracy: 0.8684\n",
      "Epoch 21/30\n",
      "1719/1719 [==============================] - 3s 2ms/step - loss: 0.3700 - accuracy: 0.8707 - val_loss: 0.3798 - val_accuracy: 0.8684\n",
      "Epoch 22/30\n",
      "1719/1719 [==============================] - 3s 2ms/step - loss: 0.3687 - accuracy: 0.8714 - val_loss: 0.3803 - val_accuracy: 0.8694\n",
      "Epoch 23/30\n",
      "1719/1719 [==============================] - 3s 1ms/step - loss: 0.3674 - accuracy: 0.8720 - val_loss: 0.3796 - val_accuracy: 0.8694\n",
      "Epoch 24/30\n",
      "1719/1719 [==============================] - 3s 2ms/step - loss: 0.3663 - accuracy: 0.8726 - val_loss: 0.3783 - val_accuracy: 0.8688\n",
      "Epoch 25/30\n",
      "1719/1719 [==============================] - 3s 2ms/step - loss: 0.3653 - accuracy: 0.8726 - val_loss: 0.3808 - val_accuracy: 0.8706\n",
      "Epoch 26/30\n",
      "1719/1719 [==============================] - 3s 2ms/step - loss: 0.3641 - accuracy: 0.8732 - val_loss: 0.3786 - val_accuracy: 0.8700\n",
      "Epoch 27/30\n",
      "1719/1719 [==============================] - 3s 2ms/step - loss: 0.3630 - accuracy: 0.8728 - val_loss: 0.3780 - val_accuracy: 0.8706\n",
      "Epoch 28/30\n",
      "1719/1719 [==============================] - 2s 1ms/step - loss: 0.3620 - accuracy: 0.8747 - val_loss: 0.3801 - val_accuracy: 0.8690\n",
      "Epoch 29/30\n",
      "1719/1719 [==============================] - 2s 1ms/step - loss: 0.3606 - accuracy: 0.8743 - val_loss: 0.3785 - val_accuracy: 0.8718\n",
      "Epoch 30/30\n",
      "1719/1719 [==============================] - 2s 1ms/step - loss: 0.3595 - accuracy: 0.8741 - val_loss: 0.3798 - val_accuracy: 0.8714\n"
     ]
    }
   ],
   "source": [
    "tensorboard_cb = keras.callbacks.TensorBoard(get_log_dir(activation='leakyReLU'))\n",
    "history = model.fit(X_train, y_train, epochs=30,\n",
    "                    validation_data=(X_valid, y_valid),\n",
    "                    callbacks=[tensorboard_cb])"
   ]
  },
  {
   "cell_type": "code",
   "execution_count": null,
   "metadata": {},
   "outputs": [],
   "source": []
  },
  {
   "cell_type": "markdown",
   "metadata": {},
   "source": [
    "## Parametric ReLU"
   ]
  },
  {
   "cell_type": "code",
   "execution_count": 54,
   "metadata": {},
   "outputs": [],
   "source": [
    "model = keras.models.Sequential([\n",
    "    keras.layers.Flatten(input_shape=[28, 28]),\n",
    "    keras.layers.Dense(300, kernel_initializer='he_normal'),\n",
    "    keras.layers.PReLU(),\n",
    "    keras.layers.Dense(100, kernel_initializer='he_normal'),\n",
    "    keras.layers.PReLU(),\n",
    "    keras.layers.Dense(10, activation='softmax')\n",
    "])"
   ]
  },
  {
   "cell_type": "code",
   "execution_count": 61,
   "metadata": {},
   "outputs": [],
   "source": [
    "model.compile(loss='sparse_categorical_crossentropy',\n",
    "              optimizer=keras.optimizers.SGD(lr=1e-3),\n",
    "              metrics=['accuracy'])"
   ]
  },
  {
   "cell_type": "code",
   "execution_count": 62,
   "metadata": {
    "collapsed": true,
    "jupyter": {
     "outputs_hidden": true
    }
   },
   "outputs": [
    {
     "name": "stdout",
     "output_type": "stream",
     "text": [
      "Epoch 1/30\n",
      "   2/1719 [..............................] - ETA: 1:06 - loss: 2.4572 - accuracy: 0.1094WARNING:tensorflow:Callbacks method `on_train_batch_end` is slow compared to the batch time (batch time: 0.0109s vs `on_train_batch_end` time: 0.0659s). Check your callbacks.\n",
      "1719/1719 [==============================] - 5s 3ms/step - loss: 1.3337 - accuracy: 0.6140 - val_loss: 0.9155 - val_accuracy: 0.7072\n",
      "Epoch 2/30\n",
      "1719/1719 [==============================] - 4s 3ms/step - loss: 0.8048 - accuracy: 0.7413 - val_loss: 0.7283 - val_accuracy: 0.7642\n",
      "Epoch 3/30\n",
      "1719/1719 [==============================] - 5s 3ms/step - loss: 0.6849 - accuracy: 0.7771 - val_loss: 0.6543 - val_accuracy: 0.7849\n",
      "Epoch 4/30\n",
      "1719/1719 [==============================] - 4s 2ms/step - loss: 0.6237 - accuracy: 0.7942 - val_loss: 0.6022 - val_accuracy: 0.8027\n",
      "Epoch 5/30\n",
      "1719/1719 [==============================] - 4s 2ms/step - loss: 0.5846 - accuracy: 0.8073 - val_loss: 0.5684 - val_accuracy: 0.8121\n",
      "Epoch 6/30\n",
      "1719/1719 [==============================] - 4s 2ms/step - loss: 0.5566 - accuracy: 0.8146 - val_loss: 0.5428 - val_accuracy: 0.8189\n",
      "Epoch 7/30\n",
      "1719/1719 [==============================] - 5s 3ms/step - loss: 0.5352 - accuracy: 0.8204 - val_loss: 0.5254 - val_accuracy: 0.8244\n",
      "Epoch 8/30\n",
      "1719/1719 [==============================] - 5s 3ms/step - loss: 0.5186 - accuracy: 0.8245 - val_loss: 0.5149 - val_accuracy: 0.8251\n",
      "Epoch 9/30\n",
      "1719/1719 [==============================] - 5s 3ms/step - loss: 0.5051 - accuracy: 0.8283 - val_loss: 0.4966 - val_accuracy: 0.8310\n",
      "Epoch 10/30\n",
      "1719/1719 [==============================] - 5s 3ms/step - loss: 0.4934 - accuracy: 0.8314 - val_loss: 0.4875 - val_accuracy: 0.8322\n",
      "Epoch 11/30\n",
      "1719/1719 [==============================] - 5s 3ms/step - loss: 0.4834 - accuracy: 0.8339 - val_loss: 0.4767 - val_accuracy: 0.8364\n",
      "Epoch 12/30\n",
      "1719/1719 [==============================] - 4s 3ms/step - loss: 0.4748 - accuracy: 0.8366 - val_loss: 0.4693 - val_accuracy: 0.8377\n",
      "Epoch 13/30\n",
      "1719/1719 [==============================] - 5s 3ms/step - loss: 0.4674 - accuracy: 0.8389 - val_loss: 0.4634 - val_accuracy: 0.8396\n",
      "Epoch 14/30\n",
      "1719/1719 [==============================] - 5s 3ms/step - loss: 0.4606 - accuracy: 0.8405 - val_loss: 0.4576 - val_accuracy: 0.8417\n",
      "Epoch 15/30\n",
      "1719/1719 [==============================] - 5s 3ms/step - loss: 0.4544 - accuracy: 0.8431 - val_loss: 0.4487 - val_accuracy: 0.8444\n",
      "Epoch 16/30\n",
      "1719/1719 [==============================] - 5s 3ms/step - loss: 0.4489 - accuracy: 0.8443 - val_loss: 0.4466 - val_accuracy: 0.8450\n",
      "Epoch 17/30\n",
      "1719/1719 [==============================] - 5s 3ms/step - loss: 0.4437 - accuracy: 0.8459 - val_loss: 0.4445 - val_accuracy: 0.8450\n",
      "Epoch 18/30\n",
      "1719/1719 [==============================] - 5s 3ms/step - loss: 0.4389 - accuracy: 0.8481 - val_loss: 0.4366 - val_accuracy: 0.8484\n",
      "Epoch 19/30\n",
      "1719/1719 [==============================] - 5s 3ms/step - loss: 0.4347 - accuracy: 0.8483 - val_loss: 0.4312 - val_accuracy: 0.8495\n",
      "Epoch 20/30\n",
      "1719/1719 [==============================] - 5s 3ms/step - loss: 0.4304 - accuracy: 0.8502 - val_loss: 0.4297 - val_accuracy: 0.8507\n",
      "Epoch 21/30\n",
      "1719/1719 [==============================] - 6s 3ms/step - loss: 0.4265 - accuracy: 0.8521 - val_loss: 0.4226 - val_accuracy: 0.8530\n",
      "Epoch 22/30\n",
      "1719/1719 [==============================] - 5s 3ms/step - loss: 0.4227 - accuracy: 0.8535 - val_loss: 0.4187 - val_accuracy: 0.8538\n",
      "Epoch 23/30\n",
      "1719/1719 [==============================] - 6s 3ms/step - loss: 0.4192 - accuracy: 0.8541 - val_loss: 0.4158 - val_accuracy: 0.8548\n",
      "Epoch 24/30\n",
      "1719/1719 [==============================] - 6s 3ms/step - loss: 0.4160 - accuracy: 0.8548 - val_loss: 0.4122 - val_accuracy: 0.8573\n",
      "Epoch 25/30\n",
      "1719/1719 [==============================] - 7s 4ms/step - loss: 0.4132 - accuracy: 0.8559 - val_loss: 0.4111 - val_accuracy: 0.8566\n",
      "Epoch 26/30\n",
      "1719/1719 [==============================] - 6s 4ms/step - loss: 0.4100 - accuracy: 0.8568 - val_loss: 0.4081 - val_accuracy: 0.8575\n",
      "Epoch 27/30\n",
      "1719/1719 [==============================] - 5s 3ms/step - loss: 0.4073 - accuracy: 0.8579 - val_loss: 0.4052 - val_accuracy: 0.8583\n",
      "Epoch 28/30\n",
      "1719/1719 [==============================] - 5s 3ms/step - loss: 0.4046 - accuracy: 0.8585 - val_loss: 0.4021 - val_accuracy: 0.8585\n",
      "Epoch 29/30\n",
      "1719/1719 [==============================] - 5s 3ms/step - loss: 0.4019 - accuracy: 0.8602 - val_loss: 0.3998 - val_accuracy: 0.8605\n",
      "Epoch 30/30\n",
      "1719/1719 [==============================] - 4s 2ms/step - loss: 0.3993 - accuracy: 0.8609 - val_loss: 0.3983 - val_accuracy: 0.8608\n"
     ]
    },
    {
     "data": {
      "text/plain": [
       "<tensorflow.python.keras.callbacks.History at 0x7fd27e9fe790>"
      ]
     },
     "execution_count": 62,
     "metadata": {},
     "output_type": "execute_result"
    }
   ],
   "source": [
    "tensorboard_cb = keras.callbacks.TensorBoard(get_log_dir(activation='PReLU'))\n",
    "model.fit(X_train, y_train, epochs=30,\n",
    "          validation_data=(X_train, y_train),\n",
    "          callbacks=[tensorboard_cb])"
   ]
  },
  {
   "cell_type": "code",
   "execution_count": null,
   "metadata": {},
   "outputs": [],
   "source": []
  },
  {
   "cell_type": "markdown",
   "metadata": {},
   "source": [
    "## SELU"
   ]
  },
  {
   "cell_type": "code",
   "execution_count": 63,
   "metadata": {},
   "outputs": [],
   "source": [
    "model = keras.models.Sequential([\n",
    "    keras.layers.Flatten(input_shape=[28, 28]),\n",
    "    keras.layers.Dense(300, kernel_initializer='he_normal', \\\n",
    "                       activation='selu'),\n",
    "    keras.layers.Dense(100, kernel_initializer='he_normal', \\\n",
    "                       activation='selu'),\n",
    "    keras.layers.Dense(10, activation='softmax')\n",
    "])"
   ]
  },
  {
   "cell_type": "code",
   "execution_count": 64,
   "metadata": {},
   "outputs": [],
   "source": [
    "model.compile(loss='sparse_categorical_crossentropy',\n",
    "              optimizer=keras.optimizers.SGD(lr=1e-3),\n",
    "              metrics=['accuracy'])"
   ]
  },
  {
   "cell_type": "code",
   "execution_count": 65,
   "metadata": {
    "collapsed": true,
    "jupyter": {
     "outputs_hidden": true
    }
   },
   "outputs": [
    {
     "name": "stdout",
     "output_type": "stream",
     "text": [
      "Epoch 1/30\n",
      "   1/1719 [..............................] - ETA: 0s - loss: 3.0576 - accuracy: 0.1250WARNING:tensorflow:Callbacks method `on_train_batch_end` is slow compared to the batch time (batch time: 0.0016s vs `on_train_batch_end` time: 0.0359s). Check your callbacks.\n",
      "1719/1719 [==============================] - 5s 3ms/step - loss: 0.9067 - accuracy: 0.7011 - val_loss: 0.6691 - val_accuracy: 0.7773\n",
      "Epoch 2/30\n",
      "1719/1719 [==============================] - 5s 3ms/step - loss: 0.6138 - accuracy: 0.7928 - val_loss: 0.5725 - val_accuracy: 0.8050\n",
      "Epoch 3/30\n",
      "1719/1719 [==============================] - 4s 3ms/step - loss: 0.5491 - accuracy: 0.8113 - val_loss: 0.5339 - val_accuracy: 0.8133\n",
      "Epoch 4/30\n",
      "1719/1719 [==============================] - 4s 2ms/step - loss: 0.5147 - accuracy: 0.8210 - val_loss: 0.5012 - val_accuracy: 0.8247\n",
      "Epoch 5/30\n",
      "1719/1719 [==============================] - 4s 2ms/step - loss: 0.4926 - accuracy: 0.8275 - val_loss: 0.4820 - val_accuracy: 0.8304\n",
      "Epoch 6/30\n",
      "1719/1719 [==============================] - 4s 2ms/step - loss: 0.4764 - accuracy: 0.8331 - val_loss: 0.4667 - val_accuracy: 0.8365\n",
      "Epoch 7/30\n",
      "1719/1719 [==============================] - 4s 2ms/step - loss: 0.4638 - accuracy: 0.8364 - val_loss: 0.4560 - val_accuracy: 0.8400\n",
      "Epoch 8/30\n",
      "1719/1719 [==============================] - 4s 2ms/step - loss: 0.4538 - accuracy: 0.8398 - val_loss: 0.4516 - val_accuracy: 0.8405\n",
      "Epoch 9/30\n",
      "1719/1719 [==============================] - 4s 2ms/step - loss: 0.4454 - accuracy: 0.8428 - val_loss: 0.4384 - val_accuracy: 0.8460\n",
      "Epoch 10/30\n",
      "1719/1719 [==============================] - 5s 3ms/step - loss: 0.4378 - accuracy: 0.8463 - val_loss: 0.4327 - val_accuracy: 0.8479\n",
      "Epoch 11/30\n",
      "1719/1719 [==============================] - 5s 3ms/step - loss: 0.4312 - accuracy: 0.8481 - val_loss: 0.4257 - val_accuracy: 0.8501\n",
      "Epoch 12/30\n",
      "1719/1719 [==============================] - 5s 3ms/step - loss: 0.4256 - accuracy: 0.8495 - val_loss: 0.4213 - val_accuracy: 0.8508\n",
      "Epoch 13/30\n",
      "1719/1719 [==============================] - 5s 3ms/step - loss: 0.4207 - accuracy: 0.8511 - val_loss: 0.4173 - val_accuracy: 0.8530\n",
      "Epoch 14/30\n",
      "1719/1719 [==============================] - 4s 2ms/step - loss: 0.4160 - accuracy: 0.8538 - val_loss: 0.4147 - val_accuracy: 0.8527\n",
      "Epoch 15/30\n",
      "1719/1719 [==============================] - 5s 3ms/step - loss: 0.4117 - accuracy: 0.8548 - val_loss: 0.4068 - val_accuracy: 0.8569\n",
      "Epoch 16/30\n",
      "1719/1719 [==============================] - 5s 3ms/step - loss: 0.4078 - accuracy: 0.8558 - val_loss: 0.4056 - val_accuracy: 0.8567\n",
      "Epoch 17/30\n",
      "1719/1719 [==============================] - 5s 3ms/step - loss: 0.4040 - accuracy: 0.8571 - val_loss: 0.4038 - val_accuracy: 0.8561\n",
      "Epoch 18/30\n",
      "1719/1719 [==============================] - 5s 3ms/step - loss: 0.4004 - accuracy: 0.8579 - val_loss: 0.3986 - val_accuracy: 0.8597\n",
      "Epoch 19/30\n",
      "1719/1719 [==============================] - 4s 2ms/step - loss: 0.3975 - accuracy: 0.8603 - val_loss: 0.3954 - val_accuracy: 0.8597\n",
      "Epoch 20/30\n",
      "1719/1719 [==============================] - 4s 2ms/step - loss: 0.3945 - accuracy: 0.8608 - val_loss: 0.3926 - val_accuracy: 0.8615\n",
      "Epoch 21/30\n",
      "1719/1719 [==============================] - 6s 4ms/step - loss: 0.3914 - accuracy: 0.8622 - val_loss: 0.3878 - val_accuracy: 0.8640\n",
      "Epoch 22/30\n",
      "1719/1719 [==============================] - 4s 2ms/step - loss: 0.3886 - accuracy: 0.8629 - val_loss: 0.3846 - val_accuracy: 0.8644\n",
      "Epoch 23/30\n",
      "1719/1719 [==============================] - 4s 2ms/step - loss: 0.3860 - accuracy: 0.8632 - val_loss: 0.3826 - val_accuracy: 0.8652\n",
      "Epoch 24/30\n",
      "1719/1719 [==============================] - 4s 2ms/step - loss: 0.3836 - accuracy: 0.8643 - val_loss: 0.3799 - val_accuracy: 0.8662\n",
      "Epoch 25/30\n",
      "1719/1719 [==============================] - 4s 3ms/step - loss: 0.3815 - accuracy: 0.8649 - val_loss: 0.3789 - val_accuracy: 0.8663\n",
      "Epoch 26/30\n",
      "1719/1719 [==============================] - 4s 2ms/step - loss: 0.3790 - accuracy: 0.8660 - val_loss: 0.3764 - val_accuracy: 0.8672\n",
      "Epoch 27/30\n",
      "1719/1719 [==============================] - 4s 3ms/step - loss: 0.3770 - accuracy: 0.8669 - val_loss: 0.3745 - val_accuracy: 0.8670\n",
      "Epoch 28/30\n",
      "1719/1719 [==============================] - 5s 3ms/step - loss: 0.3751 - accuracy: 0.8671 - val_loss: 0.3726 - val_accuracy: 0.8674\n",
      "Epoch 29/30\n",
      "1719/1719 [==============================] - 5s 3ms/step - loss: 0.3728 - accuracy: 0.8683 - val_loss: 0.3714 - val_accuracy: 0.8679\n",
      "Epoch 30/30\n",
      "1719/1719 [==============================] - 4s 2ms/step - loss: 0.3708 - accuracy: 0.8686 - val_loss: 0.3699 - val_accuracy: 0.8682\n"
     ]
    },
    {
     "data": {
      "text/plain": [
       "<tensorflow.python.keras.callbacks.History at 0x7fd26e9d4410>"
      ]
     },
     "execution_count": 65,
     "metadata": {},
     "output_type": "execute_result"
    }
   ],
   "source": [
    "tensorboard_cb = keras.callbacks.TensorBoard(get_log_dir(activation='SELU'))\n",
    "model.fit(X_train, y_train, epochs=30,\n",
    "          validation_data=(X_train, y_train),\n",
    "          callbacks=[tensorboard_cb])"
   ]
  },
  {
   "cell_type": "code",
   "execution_count": null,
   "metadata": {},
   "outputs": [],
   "source": []
  },
  {
   "cell_type": "markdown",
   "metadata": {},
   "source": [
    "## Batch Normalization"
   ]
  },
  {
   "cell_type": "code",
   "execution_count": 66,
   "metadata": {},
   "outputs": [],
   "source": [
    "model = keras.models.Sequential([\n",
    "    keras.layers.Flatten(input_shape=[28, 28]),\n",
    "    keras.layers.BatchNormalization(),\n",
    "    keras.layers.Dense(300, use_bias=False),\n",
    "    keras.layers.BatchNormalization(),\n",
    "    keras.layers.Activation('relu'),\n",
    "    keras.layers.Dense(100, use_bias=False),\n",
    "    keras.layers.BatchNormalization(),\n",
    "    keras.layers.Activation('relu'),\n",
    "    keras.layers.Dense(10, activation='softmax')\n",
    "])"
   ]
  },
  {
   "cell_type": "code",
   "execution_count": 74,
   "metadata": {},
   "outputs": [],
   "source": [
    "model.compile(loss='sparse_categorical_crossentropy',\n",
    "              optimizer=keras.optimizers.SGD(lr=1e-3),\n",
    "              metrics=['accuracy'])"
   ]
  },
  {
   "cell_type": "code",
   "execution_count": 75,
   "metadata": {
    "collapsed": true,
    "jupyter": {
     "outputs_hidden": true
    }
   },
   "outputs": [
    {
     "name": "stdout",
     "output_type": "stream",
     "text": [
      "Epoch 1/10\n",
      "   2/1719 [..............................] - ETA: 57s - loss: 2.8516 - accuracy: 0.1250WARNING:tensorflow:Callbacks method `on_train_batch_end` is slow compared to the batch time (batch time: 0.0037s vs `on_train_batch_end` time: 0.0632s). Check your callbacks.\n",
      "1719/1719 [==============================] - 6s 3ms/step - loss: 1.0199 - accuracy: 0.6861 - val_loss: 0.6611 - val_accuracy: 0.7864\n",
      "Epoch 2/10\n",
      "1719/1719 [==============================] - 5s 3ms/step - loss: 0.6609 - accuracy: 0.7863 - val_loss: 0.5478 - val_accuracy: 0.8196\n",
      "Epoch 3/10\n",
      "1719/1719 [==============================] - 5s 3ms/step - loss: 0.5858 - accuracy: 0.8047 - val_loss: 0.4968 - val_accuracy: 0.8334\n",
      "Epoch 4/10\n",
      "1719/1719 [==============================] - 5s 3ms/step - loss: 0.5370 - accuracy: 0.8188 - val_loss: 0.4662 - val_accuracy: 0.8414\n",
      "Epoch 5/10\n",
      "1719/1719 [==============================] - 4s 2ms/step - loss: 0.5053 - accuracy: 0.8277 - val_loss: 0.4438 - val_accuracy: 0.8500\n",
      "Epoch 6/10\n",
      "1719/1719 [==============================] - 4s 3ms/step - loss: 0.4845 - accuracy: 0.8329 - val_loss: 0.4278 - val_accuracy: 0.8526\n",
      "Epoch 7/10\n",
      "1719/1719 [==============================] - 4s 3ms/step - loss: 0.4692 - accuracy: 0.8377 - val_loss: 0.4140 - val_accuracy: 0.8562\n",
      "Epoch 8/10\n",
      "1719/1719 [==============================] - 4s 2ms/step - loss: 0.4542 - accuracy: 0.8417 - val_loss: 0.4035 - val_accuracy: 0.8596\n",
      "Epoch 9/10\n",
      "1719/1719 [==============================] - 4s 2ms/step - loss: 0.4414 - accuracy: 0.8478 - val_loss: 0.3948 - val_accuracy: 0.8608\n",
      "Epoch 10/10\n",
      "1719/1719 [==============================] - 4s 2ms/step - loss: 0.4305 - accuracy: 0.8505 - val_loss: 0.3869 - val_accuracy: 0.8648\n"
     ]
    }
   ],
   "source": [
    "tensorboard_cb = keras.callbacks.TensorBoard(get_log_dir('BatchNormalization', \\\n",
    "                                                         activation='relu'))\n",
    "history = model.fit(X_train, y_train, epochs=10,\n",
    "                    validation_data=(X_valid, y_valid),\n",
    "                    callbacks=[tensorboard_cb])"
   ]
  },
  {
   "cell_type": "code",
   "execution_count": null,
   "metadata": {},
   "outputs": [],
   "source": []
  },
  {
   "cell_type": "markdown",
   "metadata": {},
   "source": [
    "## Some sheduling"
   ]
  },
  {
   "cell_type": "code",
   "execution_count": 10,
   "metadata": {},
   "outputs": [],
   "source": [
    "pixel_means = X_train.mean(axis=0, keepdims=True)\n",
    "pixel_stds = X_train.std(axis=0, keepdims=True)\n",
    "X_train_scaled = (X_train - pixel_means) / pixel_stds\n",
    "X_valid_scaled = (X_valid - pixel_means) / pixel_stds\n",
    "X_test_scaled = (X_test - pixel_means) / pixel_stds"
   ]
  },
  {
   "cell_type": "code",
   "execution_count": 6,
   "metadata": {},
   "outputs": [],
   "source": [
    "def exponential_decay_fn(epoch):\n",
    "    return 0.01 * 0.1**(epoch / 20)"
   ]
  },
  {
   "cell_type": "code",
   "execution_count": 8,
   "metadata": {},
   "outputs": [],
   "source": [
    "def exponential_decay(lr0, s):\n",
    "    def exponential_decay_fn(epoch):\n",
    "        return lr0 * 0.1**(epoch / s)\n",
    "    return exponential_decay_fn"
   ]
  },
  {
   "cell_type": "code",
   "execution_count": 9,
   "metadata": {},
   "outputs": [],
   "source": [
    "model = keras.models.Sequential([\n",
    "    keras.layers.Flatten(input_shape=[28, 28]),\n",
    "    keras.layers.Dense(300, activation=\"selu\", kernel_initializer=\"lecun_normal\"),\n",
    "    keras.layers.Dense(100, activation=\"selu\", kernel_initializer=\"lecun_normal\"),\n",
    "    keras.layers.Dense(10, activation=\"softmax\")\n",
    "])\n",
    "model.compile(loss=\"sparse_categorical_crossentropy\", optimizer=\"nadam\", metrics=[\"accuracy\"])\n",
    "n_epochs = 25"
   ]
  },
  {
   "cell_type": "code",
   "execution_count": 12,
   "metadata": {
    "collapsed": true,
    "jupyter": {
     "outputs_hidden": true
    }
   },
   "outputs": [
    {
     "name": "stdout",
     "output_type": "stream",
     "text": [
      "Epoch 1/25\n",
      "1719/1719 [==============================] - 5s 3ms/step - loss: 0.8450 - accuracy: 0.7595 - val_loss: 0.8422 - val_accuracy: 0.7502\n",
      "Epoch 2/25\n",
      "1719/1719 [==============================] - 4s 3ms/step - loss: 0.6611 - accuracy: 0.7987 - val_loss: 0.6182 - val_accuracy: 0.7938\n",
      "Epoch 3/25\n",
      "1719/1719 [==============================] - 4s 2ms/step - loss: 0.6008 - accuracy: 0.8143 - val_loss: 0.9221 - val_accuracy: 0.7408\n",
      "Epoch 4/25\n",
      "1719/1719 [==============================] - 5s 3ms/step - loss: 0.5620 - accuracy: 0.8287 - val_loss: 0.5112 - val_accuracy: 0.8340\n",
      "Epoch 5/25\n",
      "1719/1719 [==============================] - 5s 3ms/step - loss: 0.4883 - accuracy: 0.8467 - val_loss: 0.5825 - val_accuracy: 0.8354\n",
      "Epoch 6/25\n",
      "1719/1719 [==============================] - 4s 2ms/step - loss: 0.4716 - accuracy: 0.8522 - val_loss: 0.5101 - val_accuracy: 0.8470\n",
      "Epoch 7/25\n",
      "1719/1719 [==============================] - 4s 2ms/step - loss: 0.4128 - accuracy: 0.8676 - val_loss: 0.4813 - val_accuracy: 0.8646\n",
      "Epoch 8/25\n",
      "1719/1719 [==============================] - 4s 2ms/step - loss: 0.4008 - accuracy: 0.8736 - val_loss: 0.5248 - val_accuracy: 0.8316\n",
      "Epoch 9/25\n",
      "1719/1719 [==============================] - 4s 2ms/step - loss: 0.3564 - accuracy: 0.8843 - val_loss: 0.5087 - val_accuracy: 0.8440\n",
      "Epoch 10/25\n",
      "1719/1719 [==============================] - 4s 2ms/step - loss: 0.3332 - accuracy: 0.8898 - val_loss: 0.4608 - val_accuracy: 0.8808\n",
      "Epoch 11/25\n",
      "1719/1719 [==============================] - 4s 2ms/step - loss: 0.3109 - accuracy: 0.8959 - val_loss: 0.4343 - val_accuracy: 0.8742\n",
      "Epoch 12/25\n",
      "1719/1719 [==============================] - 4s 2ms/step - loss: 0.2880 - accuracy: 0.9034 - val_loss: 0.4902 - val_accuracy: 0.8712\n",
      "Epoch 13/25\n",
      "1719/1719 [==============================] - 4s 2ms/step - loss: 0.2722 - accuracy: 0.9082 - val_loss: 0.4743 - val_accuracy: 0.8794\n",
      "Epoch 14/25\n",
      "1719/1719 [==============================] - 4s 2ms/step - loss: 0.2534 - accuracy: 0.9153 - val_loss: 0.4384 - val_accuracy: 0.8838\n",
      "Epoch 15/25\n",
      "1719/1719 [==============================] - 5s 3ms/step - loss: 0.2327 - accuracy: 0.9210 - val_loss: 0.4451 - val_accuracy: 0.8822\n",
      "Epoch 16/25\n",
      "1719/1719 [==============================] - 5s 3ms/step - loss: 0.2143 - accuracy: 0.9277 - val_loss: 0.4467 - val_accuracy: 0.8866\n",
      "Epoch 17/25\n",
      "1719/1719 [==============================] - 5s 3ms/step - loss: 0.2013 - accuracy: 0.9324 - val_loss: 0.5086 - val_accuracy: 0.8824\n",
      "Epoch 18/25\n",
      "1719/1719 [==============================] - 5s 3ms/step - loss: 0.1883 - accuracy: 0.9363 - val_loss: 0.5193 - val_accuracy: 0.8780\n",
      "Epoch 19/25\n",
      "1719/1719 [==============================] - 4s 2ms/step - loss: 0.1772 - accuracy: 0.9406 - val_loss: 0.4961 - val_accuracy: 0.8896\n",
      "Epoch 20/25\n",
      "1719/1719 [==============================] - 4s 2ms/step - loss: 0.1624 - accuracy: 0.9452 - val_loss: 0.4991 - val_accuracy: 0.8896\n",
      "Epoch 21/25\n",
      "1719/1719 [==============================] - 4s 2ms/step - loss: 0.1536 - accuracy: 0.9489 - val_loss: 0.5362 - val_accuracy: 0.8838\n",
      "Epoch 22/25\n",
      "1719/1719 [==============================] - 4s 2ms/step - loss: 0.1445 - accuracy: 0.9521 - val_loss: 0.5479 - val_accuracy: 0.8874\n",
      "Epoch 23/25\n",
      "1719/1719 [==============================] - 4s 2ms/step - loss: 0.1347 - accuracy: 0.9563 - val_loss: 0.5459 - val_accuracy: 0.8848\n",
      "Epoch 24/25\n",
      "1719/1719 [==============================] - 4s 2ms/step - loss: 0.1286 - accuracy: 0.9587 - val_loss: 0.5933 - val_accuracy: 0.8874\n",
      "Epoch 25/25\n",
      "1719/1719 [==============================] - 4s 2ms/step - loss: 0.1198 - accuracy: 0.9609 - val_loss: 0.5781 - val_accuracy: 0.8870\n"
     ]
    }
   ],
   "source": [
    "lr_scheduler_cb = keras.callbacks.LearningRateScheduler(exponential_decay_fn)\n",
    "tensorboard_cb = keras.callbacks.TensorBoard(get_log_dir(lr='exponential_decay'))\n",
    "\n",
    "history = model.fit(X_train_scaled, y_train, epochs=n_epochs,\n",
    "                    validation_data=(X_valid_scaled, y_valid),\n",
    "                    callbacks=[lr_scheduler_cb])"
   ]
  },
  {
   "cell_type": "code",
   "execution_count": null,
   "metadata": {},
   "outputs": [],
   "source": []
  },
  {
   "cell_type": "code",
   "execution_count": null,
   "metadata": {},
   "outputs": [],
   "source": []
  },
  {
   "cell_type": "code",
   "execution_count": 19,
   "metadata": {},
   "outputs": [],
   "source": [
    "model = keras.models.Sequential([\n",
    "    keras.layers.Flatten(input_shape=[28, 28]),\n",
    "    keras.layers.Dense(300, activation=\"selu\", kernel_initializer=\"lecun_normal\"),\n",
    "    keras.layers.Dense(100, activation=\"selu\", kernel_initializer=\"lecun_normal\"),\n",
    "    keras.layers.Dense(10, activation=\"softmax\")\n",
    "])\n",
    "\n",
    "s = 20 * len(X_train) // 32\n",
    "learning_rate = keras.optimizers.schedules.ExponentialDecay(0.01, s, 0.1)\n",
    "optimizer = keras.optimizers.SGD(learning_rate)\n",
    "model.compile(loss='sparse_categorical_crossentropy', \\\n",
    "                  optimizer=optimizer, metrics=['accuracy'])"
   ]
  },
  {
   "cell_type": "code",
   "execution_count": null,
   "metadata": {},
   "outputs": [],
   "source": []
  },
  {
   "cell_type": "markdown",
   "metadata": {},
   "source": [
    "# l1 and l2 regularization"
   ]
  },
  {
   "cell_type": "code",
   "execution_count": 22,
   "metadata": {},
   "outputs": [],
   "source": [
    "from functools import partial\n",
    "\n",
    "RegularizedDense = partial(keras.layers.Dense,\n",
    "                           activation='elu',\n",
    "                           kernel_initializer='he_normal',\n",
    "                           kernel_regularizer=keras.regularizers.l2(0.01))\n",
    "\n",
    "model = keras.models.Sequential([\n",
    "    keras.layers.Flatten(input_shape=[28, 28]),\n",
    "    RegularizedDense(300),\n",
    "    RegularizedDense(100),\n",
    "    RegularizedDense(100, activation='softmax'),\n",
    "])\n",
    "model.compile(loss='sparse_categorical_crossentropy', optimizer='nadam', metrics=['accuracy'])"
   ]
  },
  {
   "cell_type": "code",
   "execution_count": null,
   "metadata": {},
   "outputs": [],
   "source": []
  },
  {
   "cell_type": "markdown",
   "metadata": {},
   "source": [
    "## Dropout"
   ]
  },
  {
   "cell_type": "code",
   "execution_count": 23,
   "metadata": {},
   "outputs": [],
   "source": [
    "model = keras.models.Sequential([\n",
    "    keras.layers.Flatten(input_shape=[28, 28]),\n",
    "    keras.layers.Dropout(rate=0.2),\n",
    "    keras.layers.Dense(300, activation=\"elu\", kernel_initializer=\"he_normal\"),\n",
    "    keras.layers.Dropout(rate=0.2),\n",
    "    keras.layers.Dense(100, activation=\"elu\", kernel_initializer=\"he_normal\"),\n",
    "    keras.layers.Dropout(rate=0.2),\n",
    "    keras.layers.Dense(10, activation='softmax')\n",
    "])\n",
    "model.compile(loss='sparse_categorical_crossentropy', optimizer='nadam', metrics=['accuracy'])"
   ]
  },
  {
   "cell_type": "code",
   "execution_count": 25,
   "metadata": {},
   "outputs": [
    {
     "name": "stdout",
     "output_type": "stream",
     "text": [
      "Epoch 1/2\n",
      "1719/1719 [==============================] - 6s 3ms/step - loss: 0.5709 - accuracy: 0.8029 - val_loss: 0.3613 - val_accuracy: 0.8726\n",
      "Epoch 2/2\n",
      "1719/1719 [==============================] - 6s 4ms/step - loss: 0.4180 - accuracy: 0.8467 - val_loss: 0.3499 - val_accuracy: 0.8702\n"
     ]
    },
    {
     "data": {
      "text/plain": [
       "<tensorflow.python.keras.callbacks.History at 0x7fafdfbcc6d0>"
      ]
     },
     "execution_count": 25,
     "metadata": {},
     "output_type": "execute_result"
    }
   ],
   "source": [
    "n_epochs = 2\n",
    "model.fit(X_train_scaled, y_train, epochs=n_epochs,\n",
    "          validation_data=(X_valid_scaled, y_valid))"
   ]
  },
  {
   "cell_type": "markdown",
   "metadata": {},
   "source": [
    "#### MC Dropout"
   ]
  },
  {
   "cell_type": "code",
   "execution_count": 40,
   "metadata": {},
   "outputs": [],
   "source": [
    "y_probas = np.stack([model(X_test_scaled, training=True)\n",
    "                     for sample in range(10)])\n",
    "y_proba = y_probas.mean(axis=0)\n",
    "y_std = y_probas.std(axis=0)"
   ]
  },
  {
   "cell_type": "code",
   "execution_count": 31,
   "metadata": {},
   "outputs": [
    {
     "data": {
      "text/plain": [
       "array([[0.  , 0.  , 0.  , 0.  , 0.  , 0.03, 0.  , 0.15, 0.  , 0.82]],\n",
       "      dtype=float32)"
      ]
     },
     "execution_count": 31,
     "metadata": {},
     "output_type": "execute_result"
    }
   ],
   "source": [
    "np.round(model.predict(X_test_scaled[:1]), 2)"
   ]
  },
  {
   "cell_type": "code",
   "execution_count": 42,
   "metadata": {},
   "outputs": [
    {
     "data": {
      "text/plain": [
       "array([[0.],\n",
       "       [0.],\n",
       "       [0.],\n",
       "       ...,\n",
       "       [0.],\n",
       "       [0.],\n",
       "       [0.]], dtype=float32)"
      ]
     },
     "execution_count": 42,
     "metadata": {},
     "output_type": "execute_result"
    }
   ],
   "source": [
    "np.round(y_proba[:, :1], 2)"
   ]
  },
  {
   "cell_type": "code",
   "execution_count": null,
   "metadata": {},
   "outputs": [],
   "source": []
  }
 ],
 "metadata": {
  "kernelspec": {
   "display_name": "Python 3",
   "language": "python",
   "name": "python3"
  },
  "language_info": {
   "codemirror_mode": {
    "name": "ipython",
    "version": 3
   },
   "file_extension": ".py",
   "mimetype": "text/x-python",
   "name": "python",
   "nbconvert_exporter": "python",
   "pygments_lexer": "ipython3",
   "version": "3.7.7"
  }
 },
 "nbformat": 4,
 "nbformat_minor": 4
}
